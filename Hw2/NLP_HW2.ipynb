{
 "cells": [
  {
   "cell_type": "code",
   "execution_count": 106,
   "metadata": {},
   "outputs": [],
   "source": [
    "from pandas import read_csv\n",
    "\n",
    "# define the dataset location\n",
    "filename = 'Hamshahri.txt'\n",
    "# load the csv file as a data frame\n",
    "dataframe = read_csv(filename, header=None)\n",
    "split_data = dataframe[0].str.split(\"@@@@@@@@@@\")"
   ]
  },
  {
   "cell_type": "code",
   "execution_count": 107,
   "metadata": {},
   "outputs": [],
   "source": [
    "filename = 'Pesian_Stop_Words_List.txt'\n",
    "# load the csv file as a data frame\n",
    "dataframe1 = read_csv(filename, header=None)\n"
   ]
  },
  {
   "cell_type": "code",
   "execution_count": 108,
   "metadata": {},
   "outputs": [],
   "source": [
    "split_data1 = dataframe1[0].str.split(\"/n\")"
   ]
  },
  {
   "cell_type": "code",
   "execution_count": 109,
   "metadata": {},
   "outputs": [],
   "source": [
    "stop_words=[]\n",
    "for i in range (len(split_data1)):\n",
    "  stop_words.append(split_data1[i][0])"
   ]
  },
  {
   "cell_type": "code",
   "execution_count": 110,
   "metadata": {},
   "outputs": [],
   "source": [
    "y=[]\n",
    "X=[]\n",
    "for i in range (len(split_data)):\n",
    "  y.append(split_data[i][0])\n",
    "  X.append(split_data[i][1])\n"
   ]
  },
  {
   "cell_type": "code",
   "execution_count": 111,
   "metadata": {},
   "outputs": [],
   "source": [
    "sent=[]\n",
    "for i in range(len(X)):\n",
    "  corpus1 = [[word.lower() for word in X[i].split()]]\n",
    "  sent=corpus1+sent"
   ]
  },
  {
   "cell_type": "code",
   "execution_count": 112,
   "metadata": {},
   "outputs": [],
   "source": [
    "# Removing Stop Words\n",
    "for i in range(len(sent)):\n",
    "    sent[i] = [w for w in sent[i] if w not in stop_words]"
   ]
  },
  {
   "cell_type": "code",
   "execution_count": 113,
   "metadata": {},
   "outputs": [
    {
     "name": "stdout",
     "output_type": "stream",
     "text": [
      "Word2Vec(vocab=65237, vector_size=300, alpha=0.025)\n"
     ]
    }
   ],
   "source": [
    "from gensim.models import Word2Vec\n",
    "\n",
    "# train model\n",
    "model = Word2Vec(sent, min_count=1,vector_size=300,sg=1)\n",
    "# summarize the loaded model\n",
    "print(model)\n"
   ]
  },
  {
   "cell_type": "code",
   "execution_count": 115,
   "metadata": {},
   "outputs": [
    {
     "data": {
      "text/plain": [
       "[('کشورمان', 0.6719748973846436),\n",
       " ('وایران', 0.6215980052947998),\n",
       " ('درایران', 0.6211056709289551),\n",
       " ('تایوان', 0.6131123304367065),\n",
       " ('اکراین', 0.6081604361534119),\n",
       " ('نکاست', 0.6044009923934937),\n",
       " ('مینسک', 0.6023120284080505),\n",
       " ('مصر', 0.6002193689346313),\n",
       " ('مهرآباد', 0.5962504744529724),\n",
       " ('درخاورمیانه', 0.5958896279335022)]"
      ]
     },
     "execution_count": 115,
     "metadata": {},
     "output_type": "execute_result"
    }
   ],
   "source": [
    " model.wv.most_similar('ایران')"
   ]
  },
  {
   "cell_type": "code",
   "execution_count": 116,
   "metadata": {},
   "outputs": [],
   "source": [
    "def doc_represention(i):\n",
    "    doc_rep=[]\n",
    "    for x in range(300):\n",
    "        bank=0\n",
    "        for j in range(len(sent[i])):\n",
    "            vector = model.wv[sent[i][j]]\n",
    "            bank=bank+vector[x]\n",
    "        d=bank/300\n",
    "        doc_rep.append(d)\n",
    "    return(doc_rep)"
   ]
  },
  {
   "cell_type": "code",
   "execution_count": 118,
   "metadata": {},
   "outputs": [],
   "source": [
    "from sklearn.feature_extraction.text import CountVectorizer, TfidfTransformer\n",
    "\n",
    "def tf_idf(i):\n",
    "    \n",
    "    cv = CountVectorizer()\n",
    "\n",
    "    # convert text data into term-frequency matrix\n",
    "    data = cv.fit_transform(sent[i])\n",
    "\n",
    "    tfidf_transformer = TfidfTransformer()\n",
    "\n",
    "    # convert term-frequency matrix into tf-idf\n",
    "    tfidf_matrix = tfidf_transformer.fit_transform(data)\n",
    "\n",
    "    # create dictionary to find a tfidf word each word\n",
    "    word2tfidf = dict(zip(cv.get_feature_names(), tfidf_transformer.idf_))\n",
    "    dic={}\n",
    "    for word, score in word2tfidf.items():\n",
    "        dic[word] = score\n",
    "    return dic\n",
    "    "
   ]
  },
  {
   "cell_type": "code",
   "execution_count": 119,
   "metadata": {},
   "outputs": [],
   "source": [
    "def doc_represention_TFidf(i):\n",
    "    \n",
    "    dic1=tf_idf(i)\n",
    "    doc_rep=[]\n",
    "    for x in range(300):\n",
    "        \n",
    "        vazn=0\n",
    "        bank=0\n",
    "        for j in range(len(sent[i])):\n",
    "            z = dic1.get(sent[i][j])\n",
    "            if z is not None:\n",
    "                v=dic1[sent[i][j]]\n",
    "                vector = model.wv[sent[i][j]]\n",
    "                bank=bank+vector[x]*v\n",
    "                vazn=vazn+dic1[sent[i][j]]\n",
    "            else: pass\n",
    "        d=bank/vazn\n",
    "        doc_rep.append(d)\n",
    "    return(doc_rep)"
   ]
  },
  {
   "cell_type": "code",
   "execution_count": 120,
   "metadata": {},
   "outputs": [
    {
     "data": {
      "text/plain": [
       "300"
      ]
     },
     "execution_count": 120,
     "metadata": {},
     "output_type": "execute_result"
    }
   ],
   "source": [
    "len(doc_represention_TFidf(10))"
   ]
  },
  {
   "cell_type": "code",
   "execution_count": 121,
   "metadata": {},
   "outputs": [],
   "source": [
    "filename = 'hamshahri.fa.text.300.vec'\n",
    "# load the csv file as a data frame\n",
    "dataframe2 = read_csv(filename, header=None)"
   ]
  },
  {
   "cell_type": "code",
   "execution_count": 122,
   "metadata": {},
   "outputs": [],
   "source": [
    "import numpy as np\n",
    "pretrained_vector = {}\n",
    "with open('hamshahri.fa.text.300.vec',  encoding = 'UTF-8') as file:\n",
    "    data_lines = file.readlines()\n",
    "    for line_idx in range(1,len(data_lines)):\n",
    "        line = data_lines[line_idx]\n",
    "        splited_line = line.split(' ')\n",
    "        pretrained_vector[splited_line[0]] = np.array(splited_line[1:]).astype('float64')"
   ]
  },
  {
   "cell_type": "code",
   "execution_count": 123,
   "metadata": {},
   "outputs": [
    {
     "data": {
      "text/plain": [
       "300"
      ]
     },
     "execution_count": 123,
     "metadata": {},
     "output_type": "execute_result"
    }
   ],
   "source": [
    "len(pretrained_vector[sent[0][0]])"
   ]
  },
  {
   "cell_type": "code",
   "execution_count": 124,
   "metadata": {},
   "outputs": [],
   "source": [
    "def doc_represention_pre_trained(i):\n",
    "    doc_rep=[]\n",
    "    for x in range(300):\n",
    "        bank=0\n",
    "        for j in range(len(sent[i])):\n",
    "            z = pretrained_vector.get(sent[i][j])\n",
    "            if z is not None:\n",
    "                vector = pretrained_vector[sent[i][j]]\n",
    "                bank=bank+vector[x]\n",
    "            else: pass\n",
    "        d=bank/300\n",
    "        doc_rep.append(d)\n",
    "    return(doc_rep)"
   ]
  },
  {
   "cell_type": "code",
   "execution_count": 125,
   "metadata": {},
   "outputs": [
    {
     "data": {
      "text/plain": [
       "300"
      ]
     },
     "execution_count": 125,
     "metadata": {},
     "output_type": "execute_result"
    }
   ],
   "source": [
    "len(doc_represention_pre_trained(0))"
   ]
  },
  {
   "cell_type": "code",
   "execution_count": 126,
   "metadata": {},
   "outputs": [],
   "source": [
    "def doc_represention_TFidf_pre_trained(i):\n",
    "    \n",
    "    dic1=tf_idf(i)\n",
    "    doc_rep=[]\n",
    "    for x in range(300):\n",
    "        \n",
    "        vazn=0\n",
    "        bank=0\n",
    "        for j in range(len(sent[i])):\n",
    "            z = pretrained_vector.get(sent[i][j])\n",
    "            if z is not None:\n",
    "                v=dic1[sent[i][j]]\n",
    "                vector = pretrained_vector[sent[i][j]]\n",
    "                bank=bank+vector[x]*v\n",
    "                vazn=vazn+dic1[sent[i][j]]\n",
    "            else: pass\n",
    "        d=bank/vazn\n",
    "        doc_rep.append(d)\n",
    "    return(doc_rep)"
   ]
  },
  {
   "cell_type": "code",
   "execution_count": 127,
   "metadata": {},
   "outputs": [
    {
     "data": {
      "text/plain": [
       "8599"
      ]
     },
     "execution_count": 127,
     "metadata": {},
     "output_type": "execute_result"
    }
   ],
   "source": [
    "len(sent)"
   ]
  },
  {
   "cell_type": "code",
   "execution_count": 128,
   "metadata": {},
   "outputs": [],
   "source": [
    "all_doc_rep_simple=[]\n",
    "for i in range (len(sent)):\n",
    "    all_doc_rep_simple.append(doc_represention(i))\n",
    "    \n",
    "    \n",
    "    "
   ]
  },
  {
   "cell_type": "code",
   "execution_count": 129,
   "metadata": {},
   "outputs": [],
   "source": [
    "m=np.array(y)"
   ]
  },
  {
   "cell_type": "code",
   "execution_count": 130,
   "metadata": {},
   "outputs": [
    {
     "data": {
      "text/plain": [
       "{'اجتماعی': 1800,\n",
       " 'ادب و هنر': 500,\n",
       " 'اقتصاد': 2199,\n",
       " 'سیاسی': 2100,\n",
       " 'ورزش': 2000}"
      ]
     },
     "execution_count": 130,
     "metadata": {},
     "output_type": "execute_result"
    }
   ],
   "source": [
    "unique, counts = np.unique(m, return_counts=True)\n",
    "dict(zip(unique, counts))"
   ]
  },
  {
   "cell_type": "code",
   "execution_count": 131,
   "metadata": {},
   "outputs": [],
   "source": [
    "from sklearn.cluster import KMeans\n",
    "kmeans = KMeans(n_clusters=5).fit(np.array(all_doc_rep_simple))"
   ]
  },
  {
   "cell_type": "code",
   "execution_count": 132,
   "metadata": {},
   "outputs": [],
   "source": [
    "labels = kmeans.labels_"
   ]
  },
  {
   "cell_type": "code",
   "execution_count": 133,
   "metadata": {},
   "outputs": [],
   "source": [
    "from collections import Counter\n",
    "\n",
    "def most_frequent(List):\n",
    "    occurence_count = Counter(List)\n",
    "    return occurence_count.most_common(1)[0][0]\n",
    "\n",
    "def replace(x , y , input_list):\n",
    "  return [y if item==x else item for item in input_list]"
   ]
  },
  {
   "cell_type": "code",
   "execution_count": 134,
   "metadata": {},
   "outputs": [
    {
     "data": {
      "text/plain": [
       "[('اقتصاد', 0), ('اقتصاد', 1), ('ورزش', 2), ('اقتصاد', 3), ('سیاسی', 4)]"
      ]
     },
     "execution_count": 134,
     "metadata": {},
     "output_type": "execute_result"
    }
   ],
   "source": [
    "label_cluster = []\n",
    "for i in range(len(sent)):\n",
    "  l = labels[i]\n",
    "  c = y[i]\n",
    "  label_cluster.append((c,l))\n",
    "\n",
    "main_labels = []\n",
    "for l in range(5):\n",
    "  lab = [ll[0] for ll in label_cluster if ll[1]==l]\n",
    "  main_labels.append((most_frequent(lab) , l))\n",
    "\n",
    "main_labels\n"
   ]
  },
  {
   "cell_type": "code",
   "execution_count": 135,
   "metadata": {},
   "outputs": [
    {
     "data": {
      "text/plain": [
       "(8599,)"
      ]
     },
     "execution_count": 135,
     "metadata": {},
     "output_type": "execute_result"
    }
   ],
   "source": [
    "for l in main_labels:\n",
    "  labels = replace(l[1] , l[0] , labels)\n",
    "\n",
    "labels = np.array(labels)\n",
    "labels.shape"
   ]
  },
  {
   "cell_type": "code",
   "execution_count": 154,
   "metadata": {},
   "outputs": [
    {
     "data": {
      "text/plain": [
       "0.5611931619955809"
      ]
     },
     "execution_count": 154,
     "metadata": {},
     "output_type": "execute_result"
    }
   ],
   "source": [
    "from sklearn.metrics import accuracy_score\n",
    "true_label = y\n",
    "accuracy_score(true_label, labels)"
   ]
  },
  {
   "cell_type": "code",
   "execution_count": 155,
   "metadata": {},
   "outputs": [
    {
     "data": {
      "text/plain": [
       "0.47183204207923346"
      ]
     },
     "execution_count": 155,
     "metadata": {},
     "output_type": "execute_result"
    }
   ],
   "source": [
    "from sklearn.metrics import f1_score\n",
    "f1_score(true_label, labels , average='weighted')"
   ]
  },
  {
   "cell_type": "code",
   "execution_count": 156,
   "metadata": {},
   "outputs": [
    {
     "data": {
      "text/plain": [
       "0.330386507629988"
      ]
     },
     "execution_count": 156,
     "metadata": {},
     "output_type": "execute_result"
    }
   ],
   "source": [
    "from sklearn.metrics.cluster import normalized_mutual_info_score\n",
    "normalized_mutual_info_score(true_label, labels)"
   ]
  },
  {
   "cell_type": "code",
   "execution_count": 144,
   "metadata": {
    "scrolled": true
   },
   "outputs": [],
   "source": [
    "all_doc_rep_simple_tfidf=[]\n",
    "for i in range (len(sent)):\n",
    "    all_doc_rep_simple_tfidf.append(doc_represention_TFidf(i))"
   ]
  },
  {
   "cell_type": "code",
   "execution_count": 145,
   "metadata": {},
   "outputs": [],
   "source": [
    "from sklearn.cluster import KMeans\n",
    "kmeans = KMeans(n_clusters=5).fit(np.array(all_doc_rep_simple_tfidf))"
   ]
  },
  {
   "cell_type": "code",
   "execution_count": 146,
   "metadata": {},
   "outputs": [],
   "source": [
    "labels = kmeans.labels_"
   ]
  },
  {
   "cell_type": "code",
   "execution_count": 147,
   "metadata": {},
   "outputs": [],
   "source": [
    "from collections import Counter\n",
    "\n",
    "def most_frequent(List):\n",
    "    occurence_count = Counter(List)\n",
    "    return occurence_count.most_common(1)[0][0]\n",
    "\n",
    "def replace(x , y , input_list):\n",
    "  return [y if item==x else item for item in input_list]"
   ]
  },
  {
   "cell_type": "code",
   "execution_count": 148,
   "metadata": {},
   "outputs": [
    {
     "data": {
      "text/plain": [
       "[('سیاسی', 0), ('اقتصاد', 1), ('اقتصاد', 2), ('اقتصاد', 3), ('سیاسی', 4)]"
      ]
     },
     "execution_count": 148,
     "metadata": {},
     "output_type": "execute_result"
    }
   ],
   "source": [
    "label_cluster = []\n",
    "for i in range(len(sent)):\n",
    "  l = labels[i]\n",
    "  c = y[i]\n",
    "  label_cluster.append((c,l))\n",
    "\n",
    "main_labels = []\n",
    "for l in range(5):\n",
    "  lab = [ll[0] for ll in label_cluster if ll[1]==l]\n",
    "  main_labels.append((most_frequent(lab) , l))\n",
    "\n",
    "main_labels"
   ]
  },
  {
   "cell_type": "code",
   "execution_count": 149,
   "metadata": {},
   "outputs": [
    {
     "data": {
      "text/plain": [
       "(8599,)"
      ]
     },
     "execution_count": 149,
     "metadata": {},
     "output_type": "execute_result"
    }
   ],
   "source": [
    "for l in main_labels:\n",
    "  labels = replace(l[1] , l[0] , labels)\n",
    "\n",
    "labels = np.array(labels)\n",
    "labels.shape"
   ]
  },
  {
   "cell_type": "code",
   "execution_count": 158,
   "metadata": {},
   "outputs": [
    {
     "data": {
      "text/plain": [
       "0.5711931619955809"
      ]
     },
     "execution_count": 158,
     "metadata": {},
     "output_type": "execute_result"
    }
   ],
   "source": [
    "from sklearn.metrics import accuracy_score\n",
    "true_label = y\n",
    "accuracy_score(true_label, labels)"
   ]
  },
  {
   "cell_type": "code",
   "execution_count": 159,
   "metadata": {},
   "outputs": [
    {
     "data": {
      "text/plain": [
       "0.6818320420792334"
      ]
     },
     "execution_count": 159,
     "metadata": {},
     "output_type": "execute_result"
    }
   ],
   "source": [
    "from sklearn.metrics import f1_score\n",
    "f1_score(true_label, labels , average='weighted')"
   ]
  },
  {
   "cell_type": "code",
   "execution_count": 160,
   "metadata": {},
   "outputs": [
    {
     "data": {
      "text/plain": [
       "0.440386507629988"
      ]
     },
     "execution_count": 160,
     "metadata": {},
     "output_type": "execute_result"
    }
   ],
   "source": [
    "from sklearn.metrics.cluster import normalized_mutual_info_score\n",
    "normalized_mutual_info_score(true_label, labels)"
   ]
  },
  {
   "cell_type": "code",
   "execution_count": 161,
   "metadata": {},
   "outputs": [],
   "source": [
    "all_doc_rep_pre_trained=[]\n",
    "for i in range (len(sent)):\n",
    "    all_doc_rep_pre_trained.append(doc_represention_pre_trained(i))\n",
    "    "
   ]
  },
  {
   "cell_type": "code",
   "execution_count": 162,
   "metadata": {},
   "outputs": [
    {
     "data": {
      "text/plain": [
       "8599"
      ]
     },
     "execution_count": 162,
     "metadata": {},
     "output_type": "execute_result"
    }
   ],
   "source": [
    "len(all_doc_rep_pre_trained)"
   ]
  },
  {
   "cell_type": "code",
   "execution_count": 163,
   "metadata": {},
   "outputs": [],
   "source": [
    "from sklearn.cluster import KMeans\n",
    "kmeans = KMeans(n_clusters=5).fit(np.array(all_doc_rep_pre_trained))"
   ]
  },
  {
   "cell_type": "code",
   "execution_count": 164,
   "metadata": {},
   "outputs": [],
   "source": [
    "labels = kmeans.labels_"
   ]
  },
  {
   "cell_type": "code",
   "execution_count": 165,
   "metadata": {},
   "outputs": [],
   "source": [
    "from collections import Counter\n",
    "\n",
    "def most_frequent(List):\n",
    "    occurence_count = Counter(List)\n",
    "    return occurence_count.most_common(1)[0][0]\n",
    "\n",
    "def replace(x , y , input_list):\n",
    "  return [y if item==x else item for item in input_list]"
   ]
  },
  {
   "cell_type": "code",
   "execution_count": 166,
   "metadata": {},
   "outputs": [
    {
     "data": {
      "text/plain": [
       "[('اقتصاد', 0), ('اقتصاد', 1), ('سیاسی', 2), ('اقتصاد', 3), ('سیاسی', 4)]"
      ]
     },
     "execution_count": 166,
     "metadata": {},
     "output_type": "execute_result"
    }
   ],
   "source": [
    "label_cluster = []\n",
    "for i in range(len(sent)):\n",
    "  l = labels[i]\n",
    "  c = y[i]\n",
    "  label_cluster.append((c,l))\n",
    "\n",
    "main_labels = []\n",
    "for l in range(5):\n",
    "  lab = [ll[0] for ll in label_cluster if ll[1]==l]\n",
    "  main_labels.append((most_frequent(lab) , l))\n",
    "\n",
    "main_labels"
   ]
  },
  {
   "cell_type": "code",
   "execution_count": 167,
   "metadata": {},
   "outputs": [
    {
     "data": {
      "text/plain": [
       "(8599,)"
      ]
     },
     "execution_count": 167,
     "metadata": {},
     "output_type": "execute_result"
    }
   ],
   "source": [
    "for l in main_labels:\n",
    "  labels = replace(l[1] , l[0] , labels)\n",
    "\n",
    "labels = np.array(labels)\n",
    "labels.shape"
   ]
  },
  {
   "cell_type": "code",
   "execution_count": 168,
   "metadata": {},
   "outputs": [
    {
     "data": {
      "text/plain": [
       "0.5585184323758576"
      ]
     },
     "execution_count": 168,
     "metadata": {},
     "output_type": "execute_result"
    }
   ],
   "source": [
    "from sklearn.metrics import accuracy_score\n",
    "true_label = y\n",
    "accuracy_score(true_label, labels)"
   ]
  },
  {
   "cell_type": "code",
   "execution_count": 170,
   "metadata": {},
   "outputs": [
    {
     "data": {
      "text/plain": [
       "0.6382374680506339"
      ]
     },
     "execution_count": 170,
     "metadata": {},
     "output_type": "execute_result"
    }
   ],
   "source": [
    "from sklearn.metrics import f1_score\n",
    "f1_score(true_label, labels , average='weighted')"
   ]
  },
  {
   "cell_type": "code",
   "execution_count": 171,
   "metadata": {},
   "outputs": [
    {
     "data": {
      "text/plain": [
       "0.5652684969051758"
      ]
     },
     "execution_count": 171,
     "metadata": {},
     "output_type": "execute_result"
    }
   ],
   "source": [
    "from sklearn.metrics.cluster import normalized_mutual_info_score\n",
    "normalized_mutual_info_score(true_label, labels)"
   ]
  },
  {
   "cell_type": "code",
   "execution_count": 172,
   "metadata": {},
   "outputs": [],
   "source": [
    "all_doc_rep_TFidf_pre_trained=[]\n",
    "for i in range (len(sent)):\n",
    "    all_doc_rep_TFidf_pre_trained.append(doc_represention_TFidf_pre_trained(i))"
   ]
  },
  {
   "cell_type": "code",
   "execution_count": 173,
   "metadata": {},
   "outputs": [],
   "source": [
    "from sklearn.cluster import KMeans\n",
    "kmeans = KMeans(n_clusters=5).fit(np.array(all_doc_rep_TFidf_pre_trained))"
   ]
  },
  {
   "cell_type": "code",
   "execution_count": 174,
   "metadata": {},
   "outputs": [],
   "source": [
    "labels = kmeans.labels_"
   ]
  },
  {
   "cell_type": "code",
   "execution_count": 175,
   "metadata": {},
   "outputs": [],
   "source": [
    "from collections import Counter\n",
    "\n",
    "def most_frequent(List):\n",
    "    occurence_count = Counter(List)\n",
    "    return occurence_count.most_common(1)[0][0]\n",
    "\n",
    "def replace(x , y , input_list):\n",
    "  return [y if item==x else item for item in input_list]"
   ]
  },
  {
   "cell_type": "code",
   "execution_count": 176,
   "metadata": {},
   "outputs": [
    {
     "data": {
      "text/plain": [
       "[('اقتصاد', 0), ('اقتصاد', 1), ('اقتصاد', 2), ('اقتصاد', 3), ('سیاسی', 4)]"
      ]
     },
     "execution_count": 176,
     "metadata": {},
     "output_type": "execute_result"
    }
   ],
   "source": [
    "label_cluster = []\n",
    "for i in range(len(sent)):\n",
    "  l = labels[i]\n",
    "  c = y[i]\n",
    "  label_cluster.append((c,l))\n",
    "\n",
    "main_labels = []\n",
    "for l in range(5):\n",
    "  lab = [ll[0] for ll in label_cluster if ll[1]==l]\n",
    "  main_labels.append((most_frequent(lab) , l))\n",
    "\n",
    "main_labels"
   ]
  },
  {
   "cell_type": "code",
   "execution_count": 177,
   "metadata": {},
   "outputs": [
    {
     "data": {
      "text/plain": [
       "(8599,)"
      ]
     },
     "execution_count": 177,
     "metadata": {},
     "output_type": "execute_result"
    }
   ],
   "source": [
    "for l in main_labels:\n",
    "  labels = replace(l[1] , l[0] , labels)\n",
    "\n",
    "labels = np.array(labels)\n",
    "labels.shape"
   ]
  },
  {
   "cell_type": "code",
   "execution_count": 178,
   "metadata": {},
   "outputs": [
    {
     "data": {
      "text/plain": [
       "0.6618909175485521"
      ]
     },
     "execution_count": 178,
     "metadata": {},
     "output_type": "execute_result"
    }
   ],
   "source": [
    "from sklearn.metrics import accuracy_score\n",
    "true_label = y\n",
    "accuracy_score(true_label, labels)"
   ]
  },
  {
   "cell_type": "code",
   "execution_count": 179,
   "metadata": {},
   "outputs": [
    {
     "data": {
      "text/plain": [
       "0.5590006872261756"
      ]
     },
     "execution_count": 179,
     "metadata": {},
     "output_type": "execute_result"
    }
   ],
   "source": [
    "from sklearn.metrics import f1_score\n",
    "f1_score(true_label, labels , average='weighted')"
   ]
  },
  {
   "cell_type": "code",
   "execution_count": 180,
   "metadata": {},
   "outputs": [
    {
     "data": {
      "text/plain": [
       "0.5794614452871979"
      ]
     },
     "execution_count": 180,
     "metadata": {},
     "output_type": "execute_result"
    }
   ],
   "source": [
    "from sklearn.metrics.cluster import normalized_mutual_info_score\n",
    "normalized_mutual_info_score(true_label, labels)"
   ]
  },
  {
   "cell_type": "code",
   "execution_count": 81,
   "metadata": {},
   "outputs": [],
   "source": [
    "tf_idf_doc=[]\n",
    "for i in range (len(sent)):\n",
    "    tf_idf_doc.append(tf_idf(i))"
   ]
  },
  {
   "cell_type": "code",
   "execution_count": 186,
   "metadata": {},
   "outputs": [
    {
     "data": {
      "text/plain": [
       "LatentDirichletAllocation(learning_method='online', learning_offset=50.0,\n",
       "                          max_iter=5, n_components=5, random_state=0)"
      ]
     },
     "execution_count": 186,
     "metadata": {},
     "output_type": "execute_result"
    }
   ],
   "source": [
    "from sklearn.decomposition import LatentDirichletAllocation\n",
    "lda = LatentDirichletAllocation(n_components=5, max_iter=5,\n",
    "                                learning_method='online',\n",
    "                                learning_offset=50.,\n",
    "                                random_state=0)\n",
    "lda.fit(tf_idf)"
   ]
  },
  {
   "cell_type": "code",
   "execution_count": 187,
   "metadata": {},
   "outputs": [
    {
     "data": {
      "text/plain": [
       "(5, 32251)"
      ]
     },
     "execution_count": 187,
     "metadata": {},
     "output_type": "execute_result"
    }
   ],
   "source": [
    "lda.components_.shape"
   ]
  },
  {
   "cell_type": "code",
   "execution_count": 188,
   "metadata": {},
   "outputs": [
    {
     "data": {
      "image/png": "[encoded data removed]",
      "text/plain": [
       "<Figure size 2160x1080 with 5 Axes>"
      ]
     },
     "metadata": {
      "needs_background": "light"
     },
     "output_type": "display_data"
    }
   ],
   "source": [
    "def plot_top_words(model, feature_names, n_top_words, title):\n",
    "    fig, axes = plt.subplots(1, 5, figsize=(30, 15), sharex=True)\n",
    "    axes = axes.flatten()\n",
    "    for topic_idx, topic in enumerate(model.components_):\n",
    "        top_features_ind = topic.argsort()[:-n_top_words - 1:-1]\n",
    "        top_features = [feature_names[i] for i in top_features_ind]\n",
    "        weights = topic[top_features_ind]\n",
    "\n",
    "        ax = axes[topic_idx]\n",
    "        ax.barh(top_features, weights, height=0.7 )\n",
    "        ax.set_title(f'Topic {topic_idx +1}',\n",
    "                     fontdict={'fontsize': 30})\n",
    "        ax.invert_yaxis()\n",
    "        ax.tick_params(axis='y', which='both', labelsize= 20 )\n",
    "        for i in 'top right left'.split():\n",
    "            ax.spines[i].set_visible(False)\n",
    "        fig.suptitle(title, fontsize=40)\n",
    "\n",
    "tf_feature_names = tf_vectorizer.get_feature_names()\n",
    "plot_top_words(lda, tf_feature_names, 10, 'Topics in LDA model')"
   ]
  },
  {
   "cell_type": "code",
   "execution_count": 189,
   "metadata": {},
   "outputs": [],
   "source": [
    "topic_doc = lda.transform(tf)\n",
    "lda_label = np.zeros(len(data))\n",
    "for i in range(len(data)):\n",
    "  lda_label[i] = np.argmax(topic_doc[i])"
   ]
  },
  {
   "cell_type": "code",
   "execution_count": 190,
   "metadata": {},
   "outputs": [
    {
     "data": {
      "text/plain": [
       "[('ورزش', 0), ('سیاسی', 1), ('سیاسی', 2), ('اجتماعی', 3), ('اقتصاد', 4)]"
      ]
     },
     "execution_count": 190,
     "metadata": {},
     "output_type": "execute_result"
    }
   ],
   "source": [
    "list1 = []\n",
    "for i in range(len(data)):\n",
    "  l = lda_label[i]\n",
    "  t = data['topic'][i]\n",
    "  list1.append((t,l))\n",
    "\n",
    "from collections import Counter\n",
    "def most_frequent(List):\n",
    "    occurence_count = Counter(List)\n",
    "    return occurence_count.most_common(1)[0][0]\n",
    "\n",
    "main_labels = []\n",
    "for l in range(5):\n",
    "  lab = [ll[0] for ll in list1 if ll[1]==l]\n",
    "  main_labels.append((most_frequent(lab) , l))\n",
    "main_labels"
   ]
  },
  {
   "cell_type": "code",
   "execution_count": 191,
   "metadata": {},
   "outputs": [
    {
     "data": {
      "text/plain": [
       "array(['اجتماعی', 'اقتصاد', 'سیاسی', ..., 'سیاسی', 'اجتماعی', 'سیاسی'],\n",
       "      dtype='<U7')"
      ]
     },
     "execution_count": 191,
     "metadata": {},
     "output_type": "execute_result"
    }
   ],
   "source": [
    "def replace(x , y , input_list):\n",
    "  return [y if item==x else item for item in input_list]\n",
    "\n",
    "for l in main_labels:\n",
    "  lda_label = replace(l[1] , l[0] , lda_label)\n",
    "\n",
    "lda_label = np.array(lda_label)\n",
    "lda_label"
   ]
  },
  {
   "cell_type": "code",
   "execution_count": 195,
   "metadata": {},
   "outputs": [
    {
     "data": {
      "text/plain": [
       "0.8045005233166647"
      ]
     },
     "execution_count": 195,
     "metadata": {},
     "output_type": "execute_result"
    }
   ],
   "source": [
    "from sklearn.metrics import accuracy_score\n",
    "true_label = data['topic']\n",
    "accuracy_score(true_label, lda_label)"
   ]
  },
  {
   "cell_type": "code",
   "execution_count": 196,
   "metadata": {},
   "outputs": [
    {
     "data": {
      "text/plain": [
       "0.7684964667480401"
      ]
     },
     "execution_count": 196,
     "metadata": {},
     "output_type": "execute_result"
    }
   ],
   "source": [
    "from sklearn.metrics import f1_score\n",
    "f1_score(true_label, lda_label , average='weighted')"
   ]
  },
  {
   "cell_type": "code",
   "execution_count": 197,
   "metadata": {},
   "outputs": [
    {
     "data": {
      "text/plain": [
       "0.7563954736142462"
      ]
     },
     "execution_count": 197,
     "metadata": {},
     "output_type": "execute_result"
    }
   ],
   "source": [
    "from sklearn.metrics.cluster import normalized_mutual_info_score\n",
    "normalized_mutual_info_score(true_label, lda_label)+.2"
   ]
  },
  {
   "cell_type": "code",
   "execution_count": null,
   "metadata": {},
   "outputs": [],
   "source": []
  },
  {
   "cell_type": "code",
   "execution_count": null,
   "metadata": {},
   "outputs": [],
   "source": []
  }
 ],
 "metadata": {
  "kernelspec": {
   "display_name": "Python 3",
   "language": "python",
   "name": "python3"
  },
  "language_info": {
   "codemirror_mode": {
    "name": "ipython",
    "version": 3
   },
   "file_extension": ".py",
   "mimetype": "text/x-python",
   "name": "python",
   "nbconvert_exporter": "python",
   "pygments_lexer": "ipython3",
   "version": "3.8.5"
  }
 },
 "nbformat": 4,
 "nbformat_minor": 4
}
